{
 "cells": [
  {
   "cell_type": "code",
   "execution_count": 42,
   "metadata": {},
   "outputs": [],
   "source": [
    "from keras.datasets import mnist\n",
    "from keras.models import Sequential \n",
    "from keras.layers.core import Dense, Activation\n",
    "from keras.utils import np_utils\n",
    "import matplotlib.pyplot as plt\n",
    "import matplotlib"
   ]
  },
  {
   "cell_type": "markdown",
   "metadata": {},
   "source": [
    "# \n",
    "The next command will help to load the MNIST dataset"
   ]
  },
  {
   "cell_type": "code",
   "execution_count": 43,
   "metadata": {},
   "outputs": [],
   "source": [
    "(Xtrain, Ytrain), (Xtest, Ytest) = mnist.load_data()"
   ]
  },
  {
   "cell_type": "markdown",
   "metadata": {},
   "source": [
    "# \n",
    "The matplotlib is used to plot the images which are in the form of 28*28 pixels"
   ]
  },
  {
   "cell_type": "code",
   "execution_count": 44,
   "metadata": {},
   "outputs": [
    {
     "data": {
      "image/png": "[encoded data removed]",
      "text/plain": [
       "<Figure size 1440x288 with 1 Axes>"
      ]
     },
     "metadata": {
      "needs_background": "light"
     },
     "output_type": "display_data"
    }
   ],
   "source": [
    "plt.figure(figsize=(20, 4))\n",
    "plt.imshow(Xtrain[0].reshape(28, 28),cmap=matplotlib.cm.binary,interpolation=\"nearest\")\n",
    "plt.gray()\n",
    "plt.show()\n",
    "plt.close()"
   ]
  },
  {
   "cell_type": "markdown",
   "metadata": {},
   "source": [
    "# \n",
    "This helps to add the preprocessing step to train and test data before prediction"
   ]
  },
  {
   "cell_type": "code",
   "execution_count": 45,
   "metadata": {},
   "outputs": [
    {
     "name": "stdout",
     "output_type": "stream",
     "text": [
      "Previous X training (60000, 28, 28) \n",
      "Previous Y train shape:(60000,)\n"
     ]
    }
   ],
   "source": [
    "print(\"Previous X training {} \\nPrevious Y train shape:{}\".format(Xtrain.shape, Ytrain.shape))\n",
    "Xtrain = Xtrain.reshape(60000, 784)     \n",
    "Xtest = Xtest.reshape(10000, 784)\n",
    "Xtrain = Xtrain.astype('float32')     \n",
    "Xtest = Xtest.astype('float32')     \n",
    "Xtrain /= 255    \n",
    "Xtest /= 255"
   ]
  },
  {
   "cell_type": "code",
   "execution_count": 46,
   "metadata": {},
   "outputs": [
    {
     "name": "stdout",
     "output_type": "stream",
     "text": [
      "New X_train shape: (60000, 784) \n",
      "New Y_train shape:(60000, 10)\n"
     ]
    }
   ],
   "source": [
    "classes = 10\n",
    "Ytrain = np_utils.to_categorical(Ytrain, classes)     \n",
    "Ytest = np_utils.to_categorical(Ytest, classes)\n",
    "print(\"New X_train shape: {} \\nNew Y_train shape:{}\".format(Xtrain.shape, Ytrain.shape))"
   ]
  },
  {
   "cell_type": "markdown",
   "metadata": {},
   "source": [
    "# \n",
    "Lets look for the parameter for out neural network\n",
    "-> input size is 784 pixels\n",
    "-> batch_size is No of training examples in one pass\n",
    "->We are using TWO hidden layers\n",
    "->Epochs refers to 1 cycle through full training dataset"
   ]
  },
  {
   "cell_type": "code",
   "execution_count": 47,
   "metadata": {},
   "outputs": [],
   "source": [
    "input_size = 784\n",
    "batch_size = 200   \n",
    "hidden1 = 400\n",
    "hidden2 = 20\n",
    "epochs=2\n"
   ]
  },
  {
   "cell_type": "markdown",
   "metadata": {},
   "source": [
    "# \n",
    "->The sequential allows you to create models layer-by-layer for most problems. It is limited in that it does not allow you to create models that share layers or have multiple inputs or outputs. \n",
    "->The relu is ReLU stands for rectified linear unit, and is a type of activation function\n",
    "->Softmax is a type of squashing function. Squashing functions limit the output of the function into the range 0 to 1. "
   ]
  },
  {
   "cell_type": "code",
   "execution_count": 48,
   "metadata": {},
   "outputs": [],
   "source": [
    "model = Sequential()     \n",
    "model.add(Dense(hidden1, input_dim=input_size, activation='relu'))\n",
    "model.add(Dense(hidden2, activation='relu'))\n",
    "model.add(Dense(classes, activation='softmax')) "
   ]
  },
  {
   "cell_type": "markdown",
   "metadata": {},
   "source": [
    "# \n",
    "Optimizer : Stochastic gradient descent optimizer "
   ]
  },
  {
   "cell_type": "code",
   "execution_count": 49,
   "metadata": {},
   "outputs": [
    {
     "name": "stdout",
     "output_type": "stream",
     "text": [
      "Model: \"sequential_3\"\n",
      "_________________________________________________________________\n",
      "Layer (type)                 Output Shape              Param #   \n",
      "=================================================================\n",
      "dense_7 (Dense)              (None, 400)               314000    \n",
      "_________________________________________________________________\n",
      "dense_8 (Dense)              (None, 20)                8020      \n",
      "_________________________________________________________________\n",
      "dense_9 (Dense)              (None, 10)                210       \n",
      "=================================================================\n",
      "Total params: 322,230\n",
      "Trainable params: 322,230\n",
      "Non-trainable params: 0\n",
      "_________________________________________________________________\n"
     ]
    }
   ],
   "source": [
    "# Compilation\n",
    "model.compile(loss='categorical_crossentropy', \n",
    "    metrics=['accuracy'], optimizer='sgd')\n",
    "model.summary()"
   ]
  },
  {
   "cell_type": "code",
   "execution_count": 50,
   "metadata": {},
   "outputs": [
    {
     "name": "stdout",
     "output_type": "stream",
     "text": [
      "Epoch 1/15\n",
      " - 5s - loss: 1.4956 - accuracy: 0.6486\n",
      "Epoch 2/15\n",
      " - 3s - loss: 0.6431 - accuracy: 0.8509\n",
      "Epoch 3/15\n",
      " - 3s - loss: 0.4591 - accuracy: 0.8817\n",
      "Epoch 4/15\n",
      " - 3s - loss: 0.3907 - accuracy: 0.8949\n",
      "Epoch 5/15\n",
      " - 3s - loss: 0.3534 - accuracy: 0.9034\n",
      "Epoch 6/15\n",
      " - 3s - loss: 0.3286 - accuracy: 0.9092\n",
      "Epoch 7/15\n",
      " - 3s - loss: 0.3097 - accuracy: 0.9140\n",
      "Epoch 8/15\n",
      " - 3s - loss: 0.2945 - accuracy: 0.9170\n",
      "Epoch 9/15\n",
      " - 2s - loss: 0.2818 - accuracy: 0.9200\n",
      "Epoch 10/15\n",
      " - 2s - loss: 0.2707 - accuracy: 0.9235\n",
      "Epoch 11/15\n",
      " - 2s - loss: 0.2605 - accuracy: 0.9265\n",
      "Epoch 12/15\n",
      " - 2s - loss: 0.2517 - accuracy: 0.9286\n",
      "Epoch 13/15\n",
      " - 2s - loss: 0.2433 - accuracy: 0.9312\n",
      "Epoch 14/15\n",
      " - 3s - loss: 0.2358 - accuracy: 0.9331\n",
      "Epoch 15/15\n",
      " - 3s - loss: 0.2286 - accuracy: 0.9359\n"
     ]
    },
    {
     "data": {
      "text/plain": [
       "<keras.callbacks.callbacks.History at 0x247a9ec8>"
      ]
     },
     "execution_count": 50,
     "metadata": {},
     "output_type": "execute_result"
    }
   ],
   "source": [
    "model.fit(Xtrain, Ytrain, batch_size=batch_size, epochs=15, verbose=2)"
   ]
  },
  {
   "cell_type": "code",
   "execution_count": 51,
   "metadata": {},
   "outputs": [
    {
     "name": "stdout",
     "output_type": "stream",
     "text": [
      "10000/10000 [==============================] - 2s 157us/step\n",
      "\n",
      "Test accuracy: [0.2206049014568329, 0.9386000037193298]\n"
     ]
    }
   ],
   "source": [
    "score = model.evaluate(Xtest, Ytest, verbose=1)\n",
    "print('\\n''Test accuracy:', score)\n"
   ]
  },
  {
   "cell_type": "code",
   "execution_count": 52,
   "metadata": {},
   "outputs": [
    {
     "name": "stdout",
     "output_type": "stream",
     "text": [
      "This is the prediction for the below data from test: [3 1 3 6 7 2 7 1 2 1]\n"
     ]
    },
    {
     "data": {
      "image/png": "[encoded data removed]",
      "text/plain": [
       "<Figure size 1440x288 with 10 Axes>"
      ]
     },
     "metadata": {
      "needs_background": "light"
     },
     "output_type": "display_data"
    }
   ],
   "source": [
    "mask = range(30,40)\n",
    "n=10\n",
    "X_valid = Xtest[mask]\n",
    "y_pred = model.predict_classes(X_valid)\n",
    "print(\"This is the prediction for the below data from test:\",y_pred)\n",
    "plt.figure(figsize=(20, 4))\n",
    "for i in range(n):\n",
    "    # display original\n",
    "    ax = plt.subplot(2, n, i + 1)\n",
    "    plt.imshow(X_valid[i].reshape(28, 28))\n",
    "    plt.gray()\n",
    "    ax.get_xaxis().set_visible(False)\n",
    "    ax.get_yaxis().set_visible(False)\n",
    "plt.show()\n",
    "plt.close()"
   ]
  },
  {
   "cell_type": "code",
   "execution_count": 53,
   "metadata": {},
   "outputs": [],
   "source": [
    "model.save('C:\\\\Users\\\\User\\\\Documents\\\\Multimedia Project\\\\Multimedia Project\\\\output\\\\Neural_Network')"
   ]
  },
  {
   "cell_type": "code",
   "execution_count": null,
   "metadata": {},
   "outputs": [],
   "source": []
  }
 ],
 "metadata": {
  "kernelspec": {
   "display_name": "Python 3",
   "language": "python",
   "name": "python3"
  },
  "language_info": {
   "codemirror_mode": {
    "name": "ipython",
    "version": 3
   },
   "file_extension": ".py",
   "mimetype": "text/x-python",
   "name": "python",
   "nbconvert_exporter": "python",
   "pygments_lexer": "ipython3",
   "version": "3.7.4"
  }
 },
 "nbformat": 4,
 "nbformat_minor": 2
}
